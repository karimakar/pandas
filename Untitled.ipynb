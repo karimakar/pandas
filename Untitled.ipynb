{
 "cells": [
  {
   "cell_type": "code",
   "execution_count": 5,
   "metadata": {},
   "outputs": [],
   "source": [
    "import pandas as pd"
   ]
  },
  {
   "cell_type": "code",
   "execution_count": 7,
   "metadata": {},
   "outputs": [],
   "source": [
    "df=pd.read_csv('movie.csv')"
   ]
  },
  {
   "cell_type": "code",
   "execution_count": 8,
   "metadata": {},
   "outputs": [
    {
     "data": {
      "text/html": [
       "<div>\n",
       "<style scoped>\n",
       "    .dataframe tbody tr th:only-of-type {\n",
       "        vertical-align: middle;\n",
       "    }\n",
       "\n",
       "    .dataframe tbody tr th {\n",
       "        vertical-align: top;\n",
       "    }\n",
       "\n",
       "    .dataframe thead th {\n",
       "        text-align: right;\n",
       "    }\n",
       "</style>\n",
       "<table border=\"1\" class=\"dataframe\">\n",
       "  <thead>\n",
       "    <tr style=\"text-align: right;\">\n",
       "      <th></th>\n",
       "      <th>movieId</th>\n",
       "      <th>title</th>\n",
       "      <th>genres</th>\n",
       "    </tr>\n",
       "  </thead>\n",
       "  <tbody>\n",
       "    <tr>\n",
       "      <th>0</th>\n",
       "      <td>1</td>\n",
       "      <td>Toy Story (1995)</td>\n",
       "      <td>Adventure|Animation|Children|Comedy|Fantasy</td>\n",
       "    </tr>\n",
       "    <tr>\n",
       "      <th>1</th>\n",
       "      <td>2</td>\n",
       "      <td>Jumanji (1995)</td>\n",
       "      <td>Adventure|Children|Fantasy</td>\n",
       "    </tr>\n",
       "  </tbody>\n",
       "</table>\n",
       "</div>"
      ],
      "text/plain": [
       "   movieId             title                                       genres\n",
       "0        1  Toy Story (1995)  Adventure|Animation|Children|Comedy|Fantasy\n",
       "1        2    Jumanji (1995)                   Adventure|Children|Fantasy"
      ]
     },
     "execution_count": 8,
     "metadata": {},
     "output_type": "execute_result"
    }
   ],
   "source": [
    "df.head(2)"
   ]
  },
  {
   "cell_type": "markdown",
   "metadata": {},
   "source": [
    "# csv\n",
    "##  313 ms to store\n",
    "##  136 ms to read\n",
    "##  1,549,941 bytes"
   ]
  },
  {
   "cell_type": "code",
   "execution_count": 17,
   "metadata": {},
   "outputs": [
    {
     "name": "stdout",
     "output_type": "stream",
     "text": [
      "313 ms ± 51.2 ms per loop (mean ± std. dev. of 7 runs, 1 loop each)\n"
     ]
    }
   ],
   "source": [
    "\n",
    "%%timeit\n",
    "df.to_csv('file_csv.csv')"
   ]
  },
  {
   "cell_type": "code",
   "execution_count": 18,
   "metadata": {},
   "outputs": [
    {
     "name": "stdout",
     "output_type": "stream",
     "text": [
      "136 ms ± 29.1 ms per loop (mean ± std. dev. of 7 runs, 1 loop each)\n"
     ]
    }
   ],
   "source": [
    "%%timeit\n",
    "data=pd.read_csv('file_csv.csv')"
   ]
  },
  {
   "cell_type": "code",
   "execution_count": 20,
   "metadata": {},
   "outputs": [
    {
     "name": "stdout",
     "output_type": "stream",
     "text": [
      " Volume in drive C has no label.\n",
      " Volume Serial Number is 66D0-16EF\n",
      "\n",
      " Directory of C:\\Users\\PC-KARIM\\Desktop\\movie\n",
      "\n",
      "\n",
      " Directory of C:\\Users\\PC-KARIM\\Desktop\\movie\n",
      "\n",
      "\n",
      " Directory of C:\\Users\\PC-KARIM\\Desktop\\movie\n",
      "\n",
      "01/27/2023  02:21 AM         1,549,941 file_csv.csv\n",
      "               1 File(s)      1,549,941 bytes\n",
      "               0 Dir(s)  38,022,230,016 bytes free\n"
     ]
    }
   ],
   "source": [
    "%ls - GFlash file_csv.csv"
   ]
  },
  {
   "cell_type": "markdown",
   "metadata": {},
   "source": [
    "#  excel\n",
    "## 10s to store\n",
    "## 9.9 s to read\n",
    "## 1,039,785 bytes"
   ]
  },
  {
   "cell_type": "code",
   "execution_count": 21,
   "metadata": {},
   "outputs": [
    {
     "name": "stdout",
     "output_type": "stream",
     "text": [
      "10 s ± 811 ms per loop (mean ± std. dev. of 7 runs, 1 loop each)\n"
     ]
    }
   ],
   "source": [
    "%%timeit\n",
    "df.to_excel('file_excel.xlsx')"
   ]
  },
  {
   "cell_type": "code",
   "execution_count": 22,
   "metadata": {},
   "outputs": [
    {
     "name": "stdout",
     "output_type": "stream",
     "text": [
      "9.99 s ± 1.14 s per loop (mean ± std. dev. of 7 runs, 1 loop each)\n"
     ]
    }
   ],
   "source": [
    "%%timeit\n",
    "data1=pd.read_excel('file_excel.xlsx')"
   ]
  },
  {
   "cell_type": "code",
   "execution_count": 23,
   "metadata": {},
   "outputs": [
    {
     "name": "stdout",
     "output_type": "stream",
     "text": [
      " Volume in drive C has no label.\n",
      " Volume Serial Number is 66D0-16EF\n",
      "\n",
      " Directory of C:\\Users\\PC-KARIM\\Desktop\\movie\n",
      "\n",
      "\n",
      " Directory of C:\\Users\\PC-KARIM\\Desktop\\movie\n",
      "\n",
      "\n",
      " Directory of C:\\Users\\PC-KARIM\\Desktop\\movie\n",
      "\n",
      "01/27/2023  02:28 AM         1,039,785 file_excel.xlsx\n",
      "               1 File(s)      1,039,785 bytes\n",
      "               0 Dir(s)  37,988,261,888 bytes free\n"
     ]
    }
   ],
   "source": [
    "%ls - GFalsh file_excel.xlsx"
   ]
  },
  {
   "cell_type": "code",
   "execution_count": null,
   "metadata": {},
   "outputs": [],
   "source": [
    "{1:{2:'2'},{3:'4'}}"
   ]
  },
  {
   "cell_type": "markdown",
   "metadata": {},
   "source": [
    "# json\n",
    "## 74.6 ms to store\n",
    "## 240 ms to read from this file\n",
    "## 2,095,975\n"
   ]
  },
  {
   "cell_type": "code",
   "execution_count": 25,
   "metadata": {},
   "outputs": [
    {
     "name": "stdout",
     "output_type": "stream",
     "text": [
      "74.6 ms ± 6.56 ms per loop (mean ± std. dev. of 7 runs, 10 loops each)\n"
     ]
    }
   ],
   "source": [
    "%%timeit\n",
    "df.to_json('file_json.json')"
   ]
  },
  {
   "cell_type": "code",
   "execution_count": 26,
   "metadata": {},
   "outputs": [
    {
     "name": "stdout",
     "output_type": "stream",
     "text": [
      "240 ms ± 14.6 ms per loop (mean ± std. dev. of 7 runs, 1 loop each)\n"
     ]
    }
   ],
   "source": [
    "%%timeit\n",
    "data3=pd.read_json('file_json.json')"
   ]
  },
  {
   "cell_type": "code",
   "execution_count": 27,
   "metadata": {},
   "outputs": [
    {
     "name": "stdout",
     "output_type": "stream",
     "text": [
      " Volume in drive C has no label.\n",
      " Volume Serial Number is 66D0-16EF\n",
      "\n",
      " Directory of C:\\Users\\PC-KARIM\\Desktop\\movie\n",
      "\n",
      "\n",
      " Directory of C:\\Users\\PC-KARIM\\Desktop\\movie\n",
      "\n",
      "01/27/2023  02:33 AM         2,095,975 file_json.json\n",
      "               1 File(s)      2,095,975 bytes\n",
      "               0 Dir(s)  37,959,442,432 bytes free\n"
     ]
    }
   ],
   "source": [
    "%ls -GFlash file_json.json"
   ]
  },
  {
   "cell_type": "markdown",
   "metadata": {},
   "source": [
    "# pickle\n",
    "## 43.4 ms to store\n",
    "## 22.7 ms to read\n",
    "## 1,235,359 bytes"
   ]
  },
  {
   "cell_type": "code",
   "execution_count": 29,
   "metadata": {},
   "outputs": [
    {
     "name": "stdout",
     "output_type": "stream",
     "text": [
      "43.4 ms ± 6.89 ms per loop (mean ± std. dev. of 7 runs, 10 loops each)\n"
     ]
    }
   ],
   "source": [
    "%%timeit\n",
    "df.to_pickle('file_pickle.pkl')"
   ]
  },
  {
   "cell_type": "code",
   "execution_count": 35,
   "metadata": {},
   "outputs": [
    {
     "name": "stdout",
     "output_type": "stream",
     "text": [
      "22.7 ms ± 5.44 ms per loop (mean ± std. dev. of 7 runs, 10 loops each)\n"
     ]
    }
   ],
   "source": [
    "%%timeit\n",
    "data4=pd.read_pickle('file_pickle.pkl')"
   ]
  },
  {
   "cell_type": "code",
   "execution_count": 36,
   "metadata": {},
   "outputs": [
    {
     "name": "stdout",
     "output_type": "stream",
     "text": [
      " Volume in drive C has no label.\n",
      " Volume Serial Number is 66D0-16EF\n",
      "\n",
      " Directory of C:\\Users\\PC-KARIM\\Desktop\\movie\n",
      "\n",
      "\n",
      " Directory of C:\\Users\\PC-KARIM\\Desktop\\movie\n",
      "\n",
      "\n",
      " Directory of C:\\Users\\PC-KARIM\\Desktop\\movie\n",
      "\n",
      "01/27/2023  02:38 AM         1,235,359 file_pickle.pkl\n",
      "               1 File(s)      1,235,359 bytes\n",
      "               0 Dir(s)  37,925,756,928 bytes free\n"
     ]
    }
   ],
   "source": [
    "%ls - GFlash file_pickle.pkl"
   ]
  },
  {
   "cell_type": "markdown",
   "metadata": {},
   "source": [
    "# parquet\n",
    "## 62.3 ms to store\n",
    "## 61.4 ms to read\n",
    "## 853,881 bytes"
   ]
  },
  {
   "cell_type": "code",
   "execution_count": 38,
   "metadata": {},
   "outputs": [
    {
     "name": "stdout",
     "output_type": "stream",
     "text": [
      "62.3 ms ± 17.6 ms per loop (mean ± std. dev. of 7 runs, 1 loop each)\n"
     ]
    }
   ],
   "source": [
    "%%timeit\n",
    "df.to_parquet('file_par.parquet')"
   ]
  },
  {
   "cell_type": "code",
   "execution_count": 39,
   "metadata": {},
   "outputs": [
    {
     "name": "stdout",
     "output_type": "stream",
     "text": [
      "61.4 ms ± 24.7 ms per loop (mean ± std. dev. of 7 runs, 1 loop each)\n"
     ]
    }
   ],
   "source": [
    "%%timeit\n",
    "data5 = pd.read_parquet('file_par.parquet')"
   ]
  },
  {
   "cell_type": "code",
   "execution_count": 40,
   "metadata": {},
   "outputs": [
    {
     "name": "stdout",
     "output_type": "stream",
     "text": [
      " Volume in drive C has no label.\n",
      " Volume Serial Number is 66D0-16EF\n",
      "\n",
      " Directory of C:\\Users\\PC-KARIM\\Desktop\\movie\n",
      "\n",
      "\n",
      " Directory of C:\\Users\\PC-KARIM\\Desktop\\movie\n",
      "\n",
      "\n",
      " Directory of C:\\Users\\PC-KARIM\\Desktop\\movie\n",
      "\n",
      "01/27/2023  02:43 AM           853,881 file_par.parquet\n",
      "               1 File(s)        853,881 bytes\n",
      "               0 Dir(s)  37,908,529,152 bytes free\n"
     ]
    }
   ],
   "source": [
    "%ls - GFlash file_par.parquet"
   ]
  },
  {
   "cell_type": "markdown",
   "metadata": {},
   "source": [
    "# feather\n",
    "## 61.3 ms to store\n",
    "## 39.7 ms to read\n",
    "## 1,007,946 bytes\n"
   ]
  },
  {
   "cell_type": "code",
   "execution_count": 41,
   "metadata": {},
   "outputs": [
    {
     "name": "stdout",
     "output_type": "stream",
     "text": [
      "The slowest run took 7.71 times longer than the fastest. This could mean that an intermediate result is being cached.\n",
      "61.3 ms ± 53.9 ms per loop (mean ± std. dev. of 7 runs, 1 loop each)\n"
     ]
    }
   ],
   "source": [
    "%%timeit\n",
    "df.to_feather('file_feather.feather')"
   ]
  },
  {
   "cell_type": "code",
   "execution_count": 43,
   "metadata": {},
   "outputs": [
    {
     "name": "stdout",
     "output_type": "stream",
     "text": [
      "39.7 ms ± 6.44 ms per loop (mean ± std. dev. of 7 runs, 10 loops each)\n"
     ]
    }
   ],
   "source": [
    "%%timeit\n",
    "data6=pd.read_feather('file_feather.feather')"
   ]
  },
  {
   "cell_type": "code",
   "execution_count": 44,
   "metadata": {},
   "outputs": [
    {
     "name": "stdout",
     "output_type": "stream",
     "text": [
      " Volume in drive C has no label.\n",
      " Volume Serial Number is 66D0-16EF\n",
      "\n",
      " Directory of C:\\Users\\PC-KARIM\\Desktop\\movie\n",
      "\n",
      "\n",
      " Directory of C:\\Users\\PC-KARIM\\Desktop\\movie\n",
      "\n",
      "\n",
      " Directory of C:\\Users\\PC-KARIM\\Desktop\\movie\n",
      "\n",
      "01/27/2023  02:46 AM         1,007,946 file_feather.feather\n",
      "               1 File(s)      1,007,946 bytes\n",
      "               0 Dir(s)  37,891,284,992 bytes free\n"
     ]
    }
   ],
   "source": [
    "%ls - Gflash file_feather.feather"
   ]
  },
  {
   "cell_type": "code",
   "execution_count": null,
   "metadata": {},
   "outputs": [],
   "source": []
  }
 ],
 "metadata": {
  "kernelspec": {
   "display_name": "Python 3",
   "language": "python",
   "name": "python3"
  },
  "language_info": {
   "codemirror_mode": {
    "name": "ipython",
    "version": 3
   },
   "file_extension": ".py",
   "mimetype": "text/x-python",
   "name": "python",
   "nbconvert_exporter": "python",
   "pygments_lexer": "ipython3",
   "version": "3.7.6"
  }
 },
 "nbformat": 4,
 "nbformat_minor": 4
}
